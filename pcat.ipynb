{
 "cells": [
  {
   "cell_type": "markdown",
   "metadata": {},
   "source": [
    "# Principal Component Analysis: A Structural Risk Minimization based Tutorial by Dr. Fayyaz Minhas)"
   ]
  },
  {
   "cell_type": "markdown",
   "metadata": {},
   "source": [
    "Principal component analysis is a method for minimum-loss dimensionality redution that works by finding the directions of maxium variance and projecting your data along these direction. This projection along the direction of maximum variance gives minimum information loss. Below, we discuss how finding the direction of maximum variance for a given data set corresponds to finding the eigen vector of the covariance matrix of the data.\n",
    "\n",
    "Let's assume that we are given N d-dimensional data points $x_i, i=1...N$. We want to find the direction vector $w$ such that the projection $z_i=w^Tx_i$ for a point $x_i$ has maximum variance. Let's calculate the variance after projection of the data along $w$. We know that variance of $z_i, i=1...N$ is the expected (average) value of the squared deviation $(z_i-\\mu_z)$ around the mean value $\\mu_z = \\frac{1}{N}\\sum_{i=1}^{N}z_i=\\frac{1}{N}\\sum_{i=1}^{N}w^Tx_i=w^T\\frac{1}{N}\\sum_{i=1}^{N}x_i=w^T\\mu_x$ where $\\mu_x=\\frac{1}{N}\\sum_{i=1}^{N}x_i$ is the vector of average values of all data points. Therefore,\n",
    "\n",
    "$var(z)=var(w^Tx)=\\frac{1}{N}\\sum_{i=1}^{N}[(w^Tx_i-w^T\\mu_x)^2]=\\frac{1}{N}\\sum_{i=1}^{N}[(w^Tx_i-w^T\\mu_x)(w^Tx_i-w^T\\mu_x)]=\\frac{1}{N}\\sum_{i=1}^{N}[w^T(x_i-\\mu_x)(x_i-\\mu_x)^Tw]=w^T\\frac{1}{N}\\sum_{i=1}^{N}[(x_i-\\mu_x)(x_i-\\mu_x)^T]w=w^TCw$\n",
    "\n",
    "Here, $C=\\frac{1}{N}\\sum_{i=1}^{N}[(x_i-\\mu_x)(x_i-\\mu_x)^T]$ is the covariance matrix. Covariance of two variable $a$ and $b$ over $N$ values $a_i,b_i, i=1...N$ is given by $c(a,b) = \\frac{1}{N}\\sum_{i=1}^{N}[(a_i-\\mu_a)(b_i-\\mu_b)^T]$ is a measure of the linear relationship between two variables - in our case two dimensions of $x$ or two of our features. Covariance will be high (positive) if increase in values of one variable above its mean correlates with increase in values of the other variable above the other variable's mean value. Covariance will be high (negative) if increase in values of one variable above its mean correlates with decrease in values of the other variable below the other variable's mean value. Covariance will be low (small positive or negative) if increase in values of one variable above its mean has little effect or little correlation with increase in values of the other variable above the other variable's mean value. In our example below, we take two variables, height and weight of a person which are expected to be correlated and exhibit high covariance. It is interesting to note that if we take a single variable $b=a$ then variance becomes covariance. A covariance matrix of $d$ variables is a $d$ by $d$ matrix of all pairwise covariances. Note that the covariance matrix will be symmetric since $cov(a,b)=cov(b,a)$.  It is typically better to scale the variables to the same range prior to covariance calculation to reduce effects of differences in range of values from affecting the covariance value. This can be achieved by subtracting the value of a variable from its mean and dividing by its standard deviation in a process called mean-standard deviation normalization (or standardization).\n",
    "\n",
    "Uptil now we have expressed the variance of the projected data in terms of the weight vector used for projection and its covariance matrix. Now using the princple of structural risk minimization, the machine learning problem of finding the optimal direction vector $w$ that minimize the error of reconstruction after projection while ensuring regulrization can be written as:\n",
    "\n",
    "$min_w E(w)+\\alpha R(w)$\n",
    "\n",
    "Where E is the error term and R controls the (inverse of) regularization. Since error is inversely related to variance of $z$, we can write this learning problem as follows:\n",
    "\n",
    "$max_w var(z)-\\alpha ||w||^2$ (for $\\alpha \\ge 0$)\n",
    "\n",
    "or\n",
    "\n",
    "$max_w w^TCw-\\alpha w^Tw$\n",
    "\n",
    "Here, we want to minimize the value of the norm of $w$ (hence the negative in front of it) while maximizing the variance. \n",
    "\n",
    "Taking the derivative with respect to $w^T$ and substituting to zero, we get:\n",
    "\n",
    "$Cw=\\alpha w$\n",
    "\n",
    "Which is an Eigen value problem. An Eigen vector $w$ is a property of a matrix $C$ such that the vector resulting from matrix multiplication $Cw$ is in the same direction as $w$ with only scaling by a corresponding constant factor $\\alpha$ called Eigen value. The number of Eigen values and vectors is equal to the number of dimensions of the matrix. These vectors of a covriance matrix are called principal components as they correspond to directions of maximal variance. Hence the name \"Principal Component Analysis\".\n",
    "\n",
    "Thus, the direction of maximum variance $w$ corresponds to the Eigen vector of the covariance matrix $C$. Thus, if we find the Eigen vectors of the covariance matrix, we can get what we want.\n",
    "\n",
    "Now to test it, let's generate some data."
   ]
  },
  {
   "cell_type": "code",
   "execution_count": 525,
   "metadata": {
    "collapsed": false
   },
   "outputs": [],
   "source": [
    "import numpy as np\n",
    "weights = np.array([55,74,58,52,58,67,80,71,62,69,72,67,78])\n",
    "heights = np.array([56, 73, 60, 54, 56, 62, 77, 73, 72, 69, 74, 67, 84,])"
   ]
  },
  {
   "cell_type": "markdown",
   "metadata": {
    "collapsed": false
   },
   "source": [
    "And plot it!"
   ]
  },
  {
   "cell_type": "code",
   "execution_count": 526,
   "metadata": {
    "collapsed": false
   },
   "outputs": [
    {
     "data": {
      "image/png": "[encoded data removed]",
      "text/plain": [
       "<matplotlib.figure.Figure at 0xae1fe48>"
      ]
     },
     "metadata": {},
     "output_type": "display_data"
    }
   ],
   "source": [
    "import matplotlib.pyplot as plt\n",
    "plt.scatter(heights,weights)\n",
    "plt.grid()\n",
    "plt.show()"
   ]
  },
  {
   "cell_type": "markdown",
   "metadata": {},
   "source": [
    "Let's make the data into a numpy array and get the mean and standard deviation of the data so we can normalize it to have zero mean and unit standard deviation along each dimension."
   ]
  },
  {
   "cell_type": "code",
   "execution_count": 527,
   "metadata": {
    "collapsed": false
   },
   "outputs": [
    {
     "name": "stdout",
     "output_type": "stream",
     "text": [
      "The dimensions of X are (13, 2)\n",
      "The mean is [67.46153846 66.38461538]\n",
      "The standard deviation is [8.86319429 8.48109628]\n"
     ]
    }
   ],
   "source": [
    "X = np.vstack((heights,weights)).T\n",
    "print(\"The dimensions of X are\",X.shape)\n",
    "Xm = np.mean(X,axis=0)\n",
    "Xs = np.std(X,axis=0)\n",
    "print(\"The mean is\",Xm)\n",
    "print(\"The standard deviation is\",Xs)"
   ]
  },
  {
   "cell_type": "code",
   "execution_count": 528,
   "metadata": {
    "collapsed": false
   },
   "outputs": [
    {
     "name": "stdout",
     "output_type": "stream",
     "text": [
      "Mean after normalization [-6.31973106e-16 -2.39124959e-16]\n",
      "Standard deviation after normalization [1. 1.]\n"
     ]
    }
   ],
   "source": [
    "Xn = (X-Xm)/(Xs)\n",
    "print(\"Mean after normalization\",np.mean(Xn,axis=0))\n",
    "print(\"Standard deviation after normalization\", np.std(Xn,axis=0))"
   ]
  },
  {
   "cell_type": "markdown",
   "metadata": {},
   "source": [
    "Let's plot the data. Notice that the trend of the data is the same whereas the mean has been changed to zero and standard deviation changed to one."
   ]
  },
  {
   "cell_type": "code",
   "execution_count": 529,
   "metadata": {
    "collapsed": false
   },
   "outputs": [
    {
     "data": {
      "image/png": "[encoded data removed]",
      "text/plain": [
       "<matplotlib.figure.Figure at 0x9506898>"
      ]
     },
     "metadata": {},
     "output_type": "display_data"
    }
   ],
   "source": [
    "plt.scatter(Xn[:,0],Xn[:,1])\n",
    "plt.grid()\n",
    "plt.show()"
   ]
  },
  {
   "cell_type": "markdown",
   "metadata": {},
   "source": [
    "Let's calculate the Covariance matrix. Note that the covariance matrix is symmetric and positive semi-definite (has non-negative eigen values)."
   ]
  },
  {
   "cell_type": "code",
   "execution_count": 530,
   "metadata": {
    "collapsed": false
   },
   "outputs": [
    {
     "name": "stdout",
     "output_type": "stream",
     "text": [
      "Covariance matrix is\n",
      " [[1.08333333 0.98631656]\n",
      " [0.98631656 1.08333333]]\n"
     ]
    }
   ],
   "source": [
    "C = np.cov(Xn.T)\n",
    "print(\"Covariance matrix is\\n\",C)"
   ]
  },
  {
   "cell_type": "markdown",
   "metadata": {},
   "source": [
    "The diagonal component of the matrix correspond to variances of the two features we have (which are one after standardization) and the cross-diagnonal elements correspond to the covariance between our two features (which is pretty high and hence the scatter plot showing high correlation!). As a consequence, it should be possible to reduce the two dimensions to a single one with minimum loss of information. \n",
    "\n",
    "Let's calculate the eigen values and principal components and sort them in descending order with respect to eigen values because our maxiumum variance principal component will correspond to the largest Eigen value and the second one will be orthogonal to the first one (proof omitted). We will also plot the scree graph which plots the fraction of variance captured along each dimension."
   ]
  },
  {
   "cell_type": "code",
   "execution_count": 531,
   "metadata": {
    "collapsed": false
   },
   "outputs": [
    {
     "name": "stdout",
     "output_type": "stream",
     "text": [
      "The eigen values are [2.0696499  0.09701677]\n",
      "The eigen vectors (principle components) are \n",
      " [[-0.70710678 -0.70710678]\n",
      " [-0.70710678  0.70710678]]\n"
     ]
    },
    {
     "data": {
      "text/plain": [
       "Text(0.5,1,'Scree plot')"
      ]
     },
     "execution_count": 531,
     "metadata": {},
     "output_type": "execute_result"
    },
    {
     "data": {
      "image/png": "[encoded data removed]",
      "text/plain": [
       "<matplotlib.figure.Figure at 0xa9640b8>"
      ]
     },
     "metadata": {},
     "output_type": "display_data"
    }
   ],
   "source": [
    "ev,pc = np.linalg.eig(C)\n",
    "idx = np.argsort(-ev)\n",
    "ev = ev[idx]\n",
    "pc = pc[:,idx]\n",
    "print(\"The eigen values are\",ev)\n",
    "print(\"The eigen vectors (principle components) are \\n\",pc)\n",
    "#plotting the scree plot\n",
    "plt.plot(np.cumsum(ev)/np.sum(ev),'o-')\n",
    "plt.xlabel(\"number of components\")\n",
    "plt.ylabel(\"Fraction of variance\")\n",
    "plt.grid()\n",
    "plt.title(\"Scree plot\")"
   ]
  },
  {
   "cell_type": "markdown",
   "metadata": {},
   "source": [
    "One interesting thing to note here is that most of the variance is captured by the first principle component (about 95%).  "
   ]
  },
  {
   "cell_type": "markdown",
   "metadata": {},
   "source": [
    "Let's reduce the dimensionlity to \"dr\" dimensions."
   ]
  },
  {
   "cell_type": "code",
   "execution_count": 532,
   "metadata": {
    "collapsed": false
   },
   "outputs": [
    {
     "name": "stdout",
     "output_type": "stream",
     "text": [
      "Data after transformation\n",
      " [[ 1.86358912]\n",
      " [-1.07678772]\n",
      " [ 1.29434524]\n",
      " [ 2.27327274]\n",
      " [ 1.61346575]\n",
      " [ 0.38441488]\n",
      " [-1.89615496]\n",
      " [-0.82666435]\n",
      " [ 0.00348587]\n",
      " [-0.34079493]\n",
      " [-0.98981894]\n",
      " [-0.01448576]\n",
      " [-2.28786695]]\n",
      "Standard deviation after transformation [1.38218887]\n"
     ]
    }
   ],
   "source": [
    "dr = 1\n",
    "wx = pc[:,0:dr]\n",
    "z = np.dot(Xn,wx)\n",
    "print(\"Data after transformation\\n\",z)\n",
    "print(\"Standard deviation after transformation\",np.std(z,axis=0))"
   ]
  },
  {
   "cell_type": "markdown",
   "metadata": {},
   "source": [
    "Let's calculate the direction of maximum variance using a simple for-loop based search to verify that we have actually found the correct answer. We will generate unit vectors along a unit circle and calculate standard deviation after projection along the vector. We will plot the standard deviation vs. the angle. Note that the highest standard deviation corresponds to the first eigen vectors."
   ]
  },
  {
   "cell_type": "code",
   "execution_count": 533,
   "metadata": {
    "collapsed": false
   },
   "outputs": [
    {
     "data": {
      "image/png": "[encoded data removed]",
      "text/plain": [
       "<matplotlib.figure.Figure at 0x96112e8>"
      ]
     },
     "metadata": {},
     "output_type": "display_data"
    }
   ],
   "source": [
    "import numpy as np\n",
    "theta = (2*np.linspace(0,1,20)-1)*np.pi\n",
    "stdx = np.zeros(theta.shape[0])\n",
    "for i,t in enumerate(theta):\n",
    "    wt = [np.cos(t),np.sin(t)]\n",
    "    stdx[i]=np.std(np.dot(wt,Xn.T))\n",
    "plt.plot(theta*180/np.pi,stdx)\n",
    "plt.xlabel(\"theta\")\n",
    "plt.ylabel(\"variance\")\n",
    "plt.grid()\n",
    "plt.show()"
   ]
  },
  {
   "cell_type": "markdown",
   "metadata": {},
   "source": [
    "Now, Let's calculate the inverse projection. Note that the principle component matrix and its transpose are inverse of each other. We can use this to calculate the inverse transform. We will de-normalize the data and plot the re-projected points."
   ]
  },
  {
   "cell_type": "code",
   "execution_count": 534,
   "metadata": {
    "collapsed": false
   },
   "outputs": [
    {
     "name": "stdout",
     "output_type": "stream",
     "text": [
      "The principle component matrix multiple by its transpose:\n",
      " [[1. 0.]\n",
      " [0. 1.]]\n"
     ]
    },
    {
     "data": {
      "image/png": "[encoded data removed]",
      "text/plain": [
       "<matplotlib.figure.Figure at 0x970c860>"
      ]
     },
     "metadata": {},
     "output_type": "display_data"
    }
   ],
   "source": [
    "print(\"The principle component matrix multiple by its transpose:\\n\",np.dot(pc,pc.T))\n",
    "iwx = pc.T[:,0:dr] \n",
    "Xr = np.dot(z,iwx.T)*Xs+Xm\n",
    "plt.scatter(Xr[:,0],Xr[:,1])\n",
    "plt.scatter(X[:,0],X[:,1])\n",
    "plt.grid()\n",
    "plt.show()"
   ]
  },
  {
   "cell_type": "markdown",
   "metadata": {
    "collapsed": false
   },
   "source": [
    "That's all folks! \n",
    "\n",
    "### Exercises\n",
    "\n",
    "Here is what you can do:\n",
    "\n",
    "1. Change the data and see its impact. You can change it by adding some gaussian noise using th np.random.randn function. See how this affects the scatter plot, the covariance matrix, the scree plot and the principal components and their Eigen values.\n",
    "\n",
    "2. Can you overlay the principal components of your data as vectors over the scatter plot to see whether the direction of maxium variance being found is actually correct. \n",
    "\n",
    "3. Try changing the number of reduced dimensions from 1 to 2. What happens? Please explain your observations.\n",
    "\n",
    "4. See how can you apply PCA from the library scikit-learn and use it for classification or regression coupled with an appropriate machine learning model. It is important to note that PCA is an unsupervised technique and labels or target values should not be used while determining the principal components.\n",
    "\n",
    "5. How do we apply PCA over previously unseen data?\n",
    "\n",
    "6. How can PCA be used for visualization of high dimension data?\n",
    "\n",
    "7. How is PCA used in Eigen Faces for face recognitioN?\n",
    "\n",
    "8. How can PCA be used for clustering (optional).\n",
    "\n",
    "9. What are the underlying assumptions of PCA? (optional)\n",
    "\n",
    "10. What are the limitations of PCA? (optional)\n",
    "\n",
    "11. How can PCA be kernelized? (optional)"
   ]
  },
  {
   "cell_type": "markdown",
   "metadata": {
    "collapsed": true
   },
   "source": [
    "(c) Dr. Fayyaz Minhas *afsar at pieas dot edu.pk#. [http://faculty.pieas.edu.pk/fayyaz]"
   ]
  },
  {
   "cell_type": "code",
   "execution_count": null,
   "metadata": {
    "collapsed": true
   },
   "outputs": [],
   "source": []
  },
  {
   "cell_type": "code",
   "execution_count": null,
   "metadata": {
    "collapsed": true
   },
   "outputs": [],
   "source": []
  },
  {
   "cell_type": "code",
   "execution_count": null,
   "metadata": {
    "collapsed": false
   },
   "outputs": [],
   "source": []
  },
  {
   "cell_type": "code",
   "execution_count": null,
   "metadata": {
    "collapsed": true
   },
   "outputs": [],
   "source": []
  },
  {
   "cell_type": "code",
   "execution_count": null,
   "metadata": {
    "collapsed": false
   },
   "outputs": [],
   "source": []
  },
  {
   "cell_type": "code",
   "execution_count": null,
   "metadata": {
    "collapsed": false
   },
   "outputs": [],
   "source": []
  },
  {
   "cell_type": "code",
   "execution_count": null,
   "metadata": {
    "collapsed": true
   },
   "outputs": [],
   "source": []
  },
  {
   "cell_type": "code",
   "execution_count": null,
   "metadata": {
    "collapsed": false
   },
   "outputs": [],
   "source": []
  },
  {
   "cell_type": "code",
   "execution_count": null,
   "metadata": {
    "collapsed": false
   },
   "outputs": [],
   "source": []
  },
  {
   "cell_type": "code",
   "execution_count": null,
   "metadata": {
    "collapsed": true
   },
   "outputs": [],
   "source": []
  }
 ],
 "metadata": {
  "kernelspec": {
   "display_name": "Python [Anaconda3]",
   "language": "python",
   "name": "Python [Anaconda3]"
  },
  "language_info": {
   "codemirror_mode": {
    "name": "ipython",
    "version": 3
   },
   "file_extension": ".py",
   "mimetype": "text/x-python",
   "name": "python",
   "nbconvert_exporter": "python",
   "pygments_lexer": "ipython3",
   "version": "3.6.4"
  }
 },
 "nbformat": 4,
 "nbformat_minor": 0
}
